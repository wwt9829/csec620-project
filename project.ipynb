{
 "cells": [
  {
   "cell_type": "markdown",
   "source": [
    "# Project\n",
    "*Team #1 - Connie Dunlap, Ryne Krueger, Jackson Robbins, Wyatt Tauber*\n",
    "\n",
    "*CSEC-520/620 Cyber Analytics & Machine Learning*\n",
    "\n",
    "## Prerequisites\n",
    "\n",
    "This notebook requires the following packages:\n",
    "* TBD\n",
    "\n",
    "The following files and folder should be in the same directory as this notebook:\n",
    "* TBD"
   ],
   "metadata": {
    "collapsed": false
   }
  },
  {
   "cell_type": "markdown",
   "source": [
    "## 1 Dataset Processing\n",
    "\n",
    "TBD"
   ],
   "metadata": {
    "collapsed": false
   }
  },
  {
   "cell_type": "code",
   "execution_count": 21,
   "outputs": [
    {
     "name": "stdout",
     "output_type": "stream",
     "text": [
      "Public\n",
      ".bash_history\n",
      ".bash_logout\n",
      ".ipython\n",
      ".java\n",
      "Music\n",
      ".conda\n",
      "Documents\n",
      ".gitconfig\n",
      "snap\n",
      "Videos\n",
      "Pictures\n",
      "anaconda3\n",
      ".gnupg\n",
      ".local\n",
      ".sudo_as_admin_successful\n",
      ".mozilla\n",
      ".jupyter\n",
      ".config\n",
      ".bashrc\n",
      "Desktop\n",
      "Templates\n",
      "Downloads\n",
      ".cache\n",
      ".profile\n",
      "hash: 1dd620a7293d700b1f15d48089a558aede814f53627dd87af2e77ca4fc6f94f5\n",
      "entropy: 3.90561958\n"
     ]
    }
   ],
   "source": [
    "\"\"\"\n",
    "1 Dataset Processing\n",
    "Author: Wyatt Tauber\n",
    "\n",
    "TBD\n",
    "\"\"\"\n",
    "import csv\n",
    "import os\n",
    "import subprocess\n",
    "\n",
    "for dir in os.listdir():\n",
    "    print(dir)\n",
    "\n",
    "command = \"rahash2 -a entropy\"\n",
    "string = \"/home/wyatt/Desktop/csec620-project/UPX/1dd620a7293d700b1f15d48089a558aede814f53627dd87af2e77ca4fc6f94f5\"\n",
    "proc = subprocess.Popen([command + \" \" + string], stdout=subprocess.PIPE, shell=True)\n",
    "\n",
    "(out, err) = proc.communicate()\n",
    "\n",
    "#print(\"program output:\", out)\n",
    "\n",
    "file_info = out.decode().strip().split()\n",
    "file_hash = file_info[0].split(\"/\")[-1][0:-1]\n",
    "file_entropy = file_info[-1]\n",
    "\n",
    "print(\"hash:\", file_hash)\n",
    "print(\"entropy:\", file_entropy)"
   ],
   "metadata": {
    "collapsed": false,
    "pycharm": {
     "name": "#%%\n"
    }
   }
  },
  {
   "cell_type": "code",
   "execution_count": null,
   "outputs": [],
   "source": [],
   "metadata": {
    "collapsed": false,
    "pycharm": {
     "name": "#%%\n"
    }
   }
  }
 ],
 "metadata": {
  "kernelspec": {
   "display_name": "Python 3",
   "language": "python",
   "name": "python3"
  },
  "language_info": {
   "codemirror_mode": {
    "name": "ipython",
    "version": 2
   },
   "file_extension": ".py",
   "mimetype": "text/x-python",
   "name": "python",
   "nbconvert_exporter": "python",
   "pygments_lexer": "ipython2",
   "version": "2.7.6"
  }
 },
 "nbformat": 4,
 "nbformat_minor": 0
}