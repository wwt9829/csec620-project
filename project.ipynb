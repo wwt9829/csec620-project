{
 "cells": [
  {
   "cell_type": "markdown",
   "metadata": {},
   "source": [
    "# Project: Machine Learning Techniques for Packer Detection\n",
    "*Team #1 - Connie Dunlap, Ryne Krueger, Jackson Robbins, Wyatt Tauber*\n",
    "\n",
    "*CSEC-520/620 Cyber Analytics & Machine Learning*\n",
    "\n",
    "## Prerequisites\n",
    "\n",
    "This notebook requires the following packages:\n",
    "* TBD\n",
    "\n",
    "The following files and folder should be in the same directory as this notebook:\n",
    "* TBD"
   ]
  },
  {
   "cell_type": "markdown",
   "metadata": {},
   "source": [
    "## 1 Data Selection & Processing\n",
    "\n",
    "Process the data from raw executable files into useable features for our selected ML models. See the project PDF for details."
   ]
  },
  {
   "cell_type": "code",
   "execution_count": 212,
   "metadata": {
    "pycharm": {
     "name": "#%%\n"
    }
   },
   "outputs": [],
   "source": [
    "\"\"\"\n",
    "1.2 Feature Extraction\n",
    "Author: Wyatt Tauber\n",
    "\n",
    "Convert the raw executable files into sha256_hash,packer,entropy lists\n",
    "\"\"\"\n",
    "import os\n",
    "import subprocess\n",
    "\n",
    "# the feature lists\n",
    "packed_data = []\n",
    "unpacked_data = []\n",
    "\n",
    "# loop through each packer directory and process the files\n",
    "for dir in os.listdir():\n",
    "    if '.' not in dir:\n",
    "        for file in os.listdir(dir):\n",
    "            # call radare2 to calcualte entropy and store the result\n",
    "            command = \"rahash2 -a entropy\"\n",
    "            string = dir + \"/\" + file\n",
    "            proc = subprocess.Popen([command + \" \" + string], stdout=subprocess.PIPE, shell=True)\n",
    "            (out, err) = proc.communicate()\n",
    "\n",
    "            # get the hash and entropy of the file\n",
    "            file_info = out.decode().strip().split()\n",
    "            \n",
    "            file_hash = file_info[0].split(\"/\")[-1][0:-1]\n",
    "            file_entropy = file_info[-1]\n",
    "            \n",
    "            # place the file information in the appropriate list\n",
    "            if 'unpacked' in file_hash:\n",
    "                file_hash = file_hash.split('_')[-1]\n",
    "                file_packer = \"none\"\n",
    "                datapoint = [file_hash,file_packer,file_entropy]\n",
    "                unpacked_data.append(datapoint)\n",
    "            else:\n",
    "                file_packer = dir\n",
    "                datapoint = [file_hash,file_packer,file_entropy]\n",
    "                packed_data.append(datapoint)"
   ]
  },
  {
   "cell_type": "code",
   "execution_count": 213,
   "metadata": {},
   "outputs": [],
   "source": [
    "\"\"\"\n",
    "1.3 Dataset Cleaning\n",
    "Author: Jackson Robbins, Wyatt Tauber\n",
    "\n",
    "Convert the lists into numeric values supported by Numpy\n",
    "\"\"\"\n",
    "from sklearn.model_selection import train_test_split\n",
    "import numpy as np\n",
    "\n",
    "# create train/test splits of all of the data\n",
    "total_data = packed_data + unpacked_data\n",
    "train_set, test_set = train_test_split(total_data, test_size=0.4, random_state=7294802)\n",
    "\n",
    "# create the label and data lists for the splits\n",
    "train_label = []\n",
    "test_label = []\n",
    "train_data = []\n",
    "test_data = []\n",
    "\n",
    "for data in train_set:\n",
    "    #  store the training labels\n",
    "    if data[1] == \"none\":\n",
    "        train_label.append(0)\n",
    "    else:\n",
    "        train_label.append(1)\n",
    "        \n",
    "    # store the training data\n",
    "    train_data.append(float(data[2]))\n",
    "   \n",
    "for data in test_set:\n",
    "    # store the testing labels \n",
    "    if data[1] == \"none\":\n",
    "        test_label.append(0)\n",
    "    else:\n",
    "        test_label.append(1)\n",
    "        \n",
    "    # store the testing data\n",
    "    test_data.append(float(data[2]))\n",
    "    \n",
    "# convert the data to Numpy arrays\n",
    "train_label = np.asarray(train_label)\n",
    "test_label = np.asarray(test_label)\n",
    "train_data = np.asarray(train_data)\n",
    "test_data = np.asarray(test_data)"
   ]
  },
  {
   "cell_type": "markdown",
   "metadata": {},
   "source": [
    "## 2 Experiments & Results\n",
    "\n",
    "Implement various ML models, tune hyperparameters, and present metrics. See the project PDF for details."
   ]
  },
  {
   "cell_type": "markdown",
   "metadata": {},
   "source": [
    "### 2.1 Logistic Regression"
   ]
  },
  {
   "cell_type": "code",
   "execution_count": 214,
   "metadata": {},
   "outputs": [
    {
     "name": "stdout",
     "output_type": "stream",
     "text": [
      "Logistic Regression Metrics:\n",
      "Accuracy: 0.8560606060606061\n",
      "Precision: 0.8968253968253969\n",
      "Recall: 0.8188405797101449\n",
      "F1-score: 0.856060606060606\n",
      "\n",
      "Figure 1: Logistic Regression Confusion Matrix\n"
     ]
    },
    {
     "data": {
      "text/plain": "<Figure size 432x288 with 2 Axes>",
      "image/png": "[encoded data removed]"
     },
     "metadata": {
      "needs_background": "light"
     },
     "output_type": "display_data"
    }
   ],
   "source": [
    "\"\"\"\n",
    "2.1 Logistic Regression\n",
    "Author: Jackson Robbins, Wyatt Tauber\n",
    "\n",
    "An sklearn logistic regression implementation\n",
    "\"\"\"\n",
    "import matplotlib.pyplot as plt\n",
    "from sklearn.linear_model import LogisticRegression\n",
    "from sklearn.metrics import accuracy_score, precision_score, recall_score, f1_score, confusion_matrix, ConfusionMatrixDisplay\n",
    "\n",
    "# reshape the data into 2 dimensions\n",
    "logistic_train_data = train_data.reshape(-1,1)\n",
    "logistic_test_data = test_data.reshape(-1,1)\n",
    "\n",
    "# perform logistic regression on the train data\n",
    "# TODO: \"hyperparameter\" tuning? plots?\n",
    "logisticRegr = LogisticRegression()\n",
    "logisticRegr.fit(logistic_train_data, train_label)\n",
    "\n",
    "# make predictions on the test data\n",
    "logistic_predictions = logisticRegr.predict(logistic_test_data)\n",
    "\n",
    "# print the metrics\n",
    "logistic_accuracy = accuracy_score(logistic_predictions, test_label)\n",
    "logistic_precision = precision_score(logistic_predictions, test_label)\n",
    "logistic_recall = recall_score(logistic_predictions, test_label)\n",
    "logistic_f1 = f1_score(logistic_predictions, test_label)\n",
    "\n",
    "print(\"Logistic Regression Metrics:\")\n",
    "print(\"Accuracy:\", logistic_accuracy)\n",
    "print(\"Precision:\", logistic_precision)\n",
    "print(\"Recall:\", logistic_recall)\n",
    "print(\"F1-score:\", logistic_f1)\n",
    "\n",
    "# create the confusion matrix\n",
    "logistic_cf_matrix = confusion_matrix(logistic_predictions, test_label)\n",
    "display = ConfusionMatrixDisplay(confusion_matrix=logistic_cf_matrix, display_labels=[\"Packed\", \"Unpacked\"])\n",
    "display.plot()\n",
    "\n",
    "# display the confusion matrix\n",
    "print(\"\\nFigure 1: Logistic Regression Confusion Matrix\")\n",
    "plt.show()"
   ]
  },
  {
   "cell_type": "markdown",
   "metadata": {},
   "source": [
    "### 2.2 Linear SVM"
   ]
  },
  {
   "cell_type": "code",
   "execution_count": 215,
   "metadata": {},
   "outputs": [
    {
     "name": "stdout",
     "output_type": "stream",
     "text": [
      "Linear SVM Metrics:\n",
      "Accuracy: 0.8674242424242424\n",
      "Precision: 0.8968253968253969\n",
      "Recall: 0.837037037037037\n",
      "F1-score: 0.8659003831417625\n",
      "\n",
      "Figure 2: Linear SVM Confusion Matrix\n"
     ]
    },
    {
     "data": {
      "text/plain": "<Figure size 432x288 with 2 Axes>",
      "image/png": "[encoded data removed]"
     },
     "metadata": {
      "needs_background": "light"
     },
     "output_type": "display_data"
    }
   ],
   "source": [
    "\"\"\"\n",
    "2.2 Linear SVM\n",
    "Author: Jackson Robbins, Wyatt Tauber\n",
    "\n",
    "A sklearn linear SVM implementation\n",
    "\"\"\"\n",
    "from sklearn.svm import SVC\n",
    "\n",
    "# reshape the data into 2 dimensions\n",
    "svm_train_data = train_data.reshape(-1,1)\n",
    "svm_test_data = test_data.reshape(-1,1)\n",
    "\n",
    "# run linear SVM on the train data\n",
    "# TODO: hyperparameter tuning? plots?\n",
    "clf = SVC(kernel='linear')\n",
    "clf.fit(svm_train_data, train_label)\n",
    "\n",
    "# make predictions on the test data\n",
    "svm_predictions = clf.predict(svm_test_data)\n",
    "\n",
    "# print the metrics\n",
    "svm_accuracy = accuracy_score(svm_predictions, test_label)\n",
    "svm_precision = precision_score(svm_predictions, test_label)\n",
    "svm_recall = recall_score(svm_predictions, test_label)\n",
    "svm_f1 = f1_score(svm_predictions, test_label)\n",
    "\n",
    "print(\"Linear SVM Metrics:\")\n",
    "print(\"Accuracy:\", svm_accuracy)\n",
    "print(\"Precision:\", svm_precision)\n",
    "print(\"Recall:\", svm_recall)\n",
    "print(\"F1-score:\", svm_f1)\n",
    "\n",
    "# create the confusion matrix\n",
    "svm_cf_matrix = confusion_matrix(svm_predictions, test_label)\n",
    "display = ConfusionMatrixDisplay(confusion_matrix=svm_cf_matrix, display_labels=[\"Packed\", \"Unpacked\"])\n",
    "display.plot()\n",
    "\n",
    "# display the confusion matrix\n",
    "print(\"\\nFigure 2: Linear SVM Confusion Matrix\")\n",
    "plt.show()"
   ]
  },
  {
   "cell_type": "markdown",
   "metadata": {},
   "source": [
    "### 2.3 k-Means"
   ]
  },
  {
   "cell_type": "code",
   "execution_count": 216,
   "metadata": {},
   "outputs": [
    {
     "name": "stdout",
     "output_type": "stream",
     "text": [
      "k-Means Metrics:\n",
      "Accuracy: 0.8901515151515151\n",
      "Precision: 0.8968253968253969\n",
      "Recall: 0.875968992248062\n",
      "F1-score: 0.8862745098039216\n",
      "\n",
      "Figure 3: k-Means Confusion Matrix\n"
     ]
    },
    {
     "data": {
      "text/plain": "<Figure size 432x288 with 2 Axes>",
      "image/png": "[encoded data removed]"
     },
     "metadata": {
      "needs_background": "light"
     },
     "output_type": "display_data"
    }
   ],
   "source": [
    "\"\"\"\n",
    "2.3 k-Means\n",
    "Author: Jackson Robbins, Wyatt Tauber\n",
    "\n",
    "A sklearn k-Means implementation\n",
    "\"\"\"\n",
    "from sklearn.cluster import KMeans\n",
    "\n",
    "# reshape the data into 2 dimensions\n",
    "km_train_data = train_data.reshape(-1,1)\n",
    "km_test_data = test_data.reshape(-1,1)\n",
    "\n",
    "# run k-means on the train data\n",
    "# TODO: hyperparameter tuning? plots?\n",
    "km = KMeans(\n",
    "    n_clusters=2, init='random',\n",
    "    n_init=10, max_iter=300, \n",
    "    tol=1e-04\n",
    ")\n",
    "km.fit(km_train_data, train_label)\n",
    "\n",
    "# make predictions on the test data\n",
    "km_predictions = km.predict(km_test_data, test_label)\n",
    "\n",
    "# print the metrics\n",
    "km_accuracy = accuracy_score(km_predictions, test_label)\n",
    "km_precision = precision_score(km_predictions, test_label)\n",
    "km_recall = recall_score(km_predictions, test_label)\n",
    "km_f1 = f1_score(km_predictions, test_label)\n",
    "\n",
    "print(\"k-Means Metrics:\")\n",
    "print(\"Accuracy:\", km_accuracy)\n",
    "print(\"Precision:\", km_precision)\n",
    "print(\"Recall:\", km_recall)\n",
    "print(\"F1-score:\", km_f1)\n",
    "\n",
    "# create the confusion matrix\n",
    "km_cf_matrix = confusion_matrix(km_predictions, test_label)\n",
    "display = ConfusionMatrixDisplay(confusion_matrix=km_cf_matrix, display_labels=[\"Packed\", \"Unpacked\"])\n",
    "display.plot()\n",
    "\n",
    "# display the confusion matrix\n",
    "print(\"\\nFigure 3: k-Means Confusion Matrix\")\n",
    "plt.show()"
   ]
  },
  {
   "cell_type": "markdown",
   "source": [
    "### 2.4 Naive Bayes"
   ],
   "metadata": {
    "collapsed": false,
    "pycharm": {
     "name": "#%% md\n"
    }
   }
  },
  {
   "cell_type": "code",
   "execution_count": 217,
   "outputs": [
    {
     "name": "stdout",
     "output_type": "stream",
     "text": [
      "Naive Bayes Metrics:\n",
      "Accuracy: 0.8787878787878788\n",
      "Precision: 0.8095238095238095\n",
      "Recall: 0.9272727272727272\n",
      "F1-score: 0.864406779661017\n",
      "\n",
      "Figure 5: Naive Bayes Confusion Matrix\n"
     ]
    },
    {
     "data": {
      "text/plain": "<Figure size 432x288 with 2 Axes>",
      "image/png": "[encoded data removed]"
     },
     "metadata": {
      "needs_background": "light"
     },
     "output_type": "display_data"
    }
   ],
   "source": [
    "\"\"\"\n",
    "2.4 Naive Bayes\n",
    "Author: Wyatt Tauber\n",
    "\n",
    "A sklearn Naive Bayes implementation\n",
    "\"\"\"\n",
    "from sklearn.naive_bayes import GaussianNB, MultinomialNB, ComplementNB, BernoulliNB, CategoricalNB\n",
    "\n",
    "# reshape the data into 2 dimensions\n",
    "nb_train_data = train_data.reshape(-1,1)\n",
    "nb_test_data = test_data.reshape(-1,1)\n",
    "\n",
    "# run Naive Bayes on the training data\n",
    "# TODO: \"hyperparameter\" tuning? plots?\n",
    "nb = CategoricalNB()\n",
    "nb.fit(nb_train_data, train_label)\n",
    "\n",
    "# make predictions on the test data\n",
    "nb_predictions = nb.predict(nb_test_data)\n",
    "\n",
    "# print the metrics\n",
    "nb_accuracy = accuracy_score(nb_predictions, test_label)\n",
    "nb_precision = precision_score(nb_predictions, test_label)\n",
    "nb_recall = recall_score(nb_predictions, test_label)\n",
    "nb_f1 = f1_score(nb_predictions, test_label)\n",
    "\n",
    "print(\"Naive Bayes Metrics:\")\n",
    "print(\"Accuracy:\", nb_accuracy)\n",
    "print(\"Precision:\", nb_precision)\n",
    "print(\"Recall:\", nb_recall)\n",
    "print(\"F1-score:\", nb_f1)\n",
    "\n",
    "# create the confusion matrix\n",
    "nb_cf_matrix = confusion_matrix(nb_predictions, test_label)\n",
    "display = ConfusionMatrixDisplay(confusion_matrix=nb_cf_matrix, display_labels=[\"Packed\", \"Unpacked\"])\n",
    "display.plot()\n",
    "\n",
    "# display the confusion matrix\n",
    "print(\"\\nFigure 5: Naive Bayes Confusion Matrix\")\n",
    "plt.show()"
   ],
   "metadata": {
    "collapsed": false,
    "pycharm": {
     "name": "#%%\n"
    }
   }
  }
 ],
 "metadata": {
  "kernelspec": {
   "display_name": "Python 3 (ipykernel)",
   "language": "python",
   "name": "python3"
  },
  "language_info": {
   "codemirror_mode": {
    "name": "ipython",
    "version": 3
   },
   "file_extension": ".py",
   "mimetype": "text/x-python",
   "name": "python",
   "nbconvert_exporter": "python",
   "pygments_lexer": "ipython3",
   "version": "3.9.7"
  }
 },
 "nbformat": 4,
 "nbformat_minor": 1
}