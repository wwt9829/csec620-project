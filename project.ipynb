{
 "cells": [
  {
   "cell_type": "markdown",
   "metadata": {},
   "source": [
    "# Project\n",
    "*Team #1 - Connie Dunlap, Ryne Krueger, Jackson Robbins, Wyatt Tauber*\n",
    "\n",
    "*CSEC-520/620 Cyber Analytics & Machine Learning*\n",
    "\n",
    "## Prerequisites\n",
    "\n",
    "This notebook requires the following packages:\n",
    "* TBD\n",
    "\n",
    "The following files and folder should be in the same directory as this notebook:\n",
    "* TBD"
   ]
  },
  {
   "cell_type": "markdown",
   "metadata": {},
   "source": [
    "## 1 Data Selection & Processing\n",
    "\n",
    "Process the data from raw executable files into useable features for our selected ML models. See the project PDF for details."
   ]
  },
  {
   "cell_type": "code",
   "execution_count": 104,
   "metadata": {
    "pycharm": {
     "name": "#%%\n"
    }
   },
   "outputs": [],
   "source": [
    "\"\"\"\n",
    "1.2 Feature Extraction\n",
    "Author: Wyatt Tauber\n",
    "\n",
    "Convert the raw executable files into sha256_hash,packer,entropy lists\n",
    "\"\"\"\n",
    "import os\n",
    "import subprocess\n",
    "\n",
    "# the feature lists\n",
    "packed_data = []\n",
    "unpacked_data = []\n",
    "\n",
    "# loop through each packer directory and process the files\n",
    "for dir in os.listdir():\n",
    "    if '.' not in dir:\n",
    "        for file in os.listdir(dir):\n",
    "            # call radare2 to calcualte entropy and store the result\n",
    "            command = \"rahash2 -a entropy\"\n",
    "            string = dir + \"/\" + file\n",
    "            proc = subprocess.Popen([command + \" \" + string], stdout=subprocess.PIPE, shell=True)\n",
    "            (out, err) = proc.communicate()\n",
    "\n",
    "            # get the hash and entropy of the file\n",
    "            file_info = out.decode().strip().split()\n",
    "            \n",
    "            file_hash = file_info[0].split(\"/\")[-1][0:-1]\n",
    "            file_entropy = file_info[-1]\n",
    "            \n",
    "            # place the file information in the appropriate list\n",
    "            if 'unpacked' in file_hash:\n",
    "                file_hash = file_hash.split('_')[-1]\n",
    "                file_packer = \"none\"\n",
    "                datapoint = [file_hash,file_packer,file_entropy]\n",
    "                unpacked_data.append(datapoint)\n",
    "            else:\n",
    "                file_packer = dir\n",
    "                datapoint = [file_hash,file_packer,file_entropy]\n",
    "                packed_data.append(datapoint)"
   ]
  },
  {
   "cell_type": "code",
   "execution_count": 105,
   "metadata": {},
   "outputs": [],
   "source": [
    "\"\"\"\n",
    "1.3 Dataset Cleaning\n",
    "Author: Jackson Robbins, Wyatt Tauber\n",
    "\n",
    "Convert the lists into numeric values supported by Numpy\n",
    "\"\"\"\n",
    "from sklearn.model_selection import train_test_split\n",
    "import numpy as np\n",
    "\n",
    "# create train/test splits of all of the data\n",
    "total_data = packed_data + unpacked_data\n",
    "train_set, test_set = train_test_split(total_data, test_size=0.4, random_state=7294802)\n",
    "\n",
    "# create the label and data lists for the splits\n",
    "train_label = []\n",
    "test_label = []\n",
    "train_data = []\n",
    "test_data = []\n",
    "\n",
    "for data in train_set:\n",
    "    #  store the training labels\n",
    "    if data[1] == \"none\":\n",
    "        train_label.append(0)\n",
    "    else:\n",
    "        train_label.append(1)\n",
    "        \n",
    "    # store the training data\n",
    "    train_data.append(float(data[2]))\n",
    "   \n",
    "for data in test_set:\n",
    "    # store the testing labels \n",
    "    if data[1] == \"none\":\n",
    "        test_label.append(0)\n",
    "    else:\n",
    "        test_label.append(1)\n",
    "        \n",
    "    # store the testing data\n",
    "    test_data.append(float(data[2]))\n",
    "    \n",
    "# convert the data to Numpy arrays\n",
    "train_label = np.asarray(train_label)\n",
    "test_label = np.asarray(test_label)\n",
    "train_data = np.asarray(train_data)\n",
    "test_data = np.asarray(test_data)"
   ]
  },
  {
   "cell_type": "markdown",
   "metadata": {},
   "source": [
    "## 2 Experiments & Results\n",
    "\n",
    "Implement various ML models, tune hyperparameters, and present metrics. See the project PDF for details."
   ]
  },
  {
   "cell_type": "markdown",
   "metadata": {},
   "source": []
  },
  {
   "cell_type": "code",
   "execution_count": 106,
   "metadata": {},
   "outputs": [
    {
     "name": "stdout",
     "output_type": "stream",
     "text": [
      "Logistic Regression Metrics:\n",
      "Accuracy: 0.8560606060606061\n",
      "Precision: 0.8968253968253969\n",
      "Recall: 0.8188405797101449\n",
      "F1-score: 0.856060606060606\n",
      "\n",
      "Figure 1: Logistic Regression Confusion Matrix\n"
     ]
    },
    {
     "data": {
      "text/plain": "<Figure size 432x288 with 2 Axes>",
      "image/png": "[encoded data removed]"
     },
     "metadata": {
      "needs_background": "light"
     },
     "output_type": "display_data"
    }
   ],
   "source": [
    "\"\"\"\n",
    "2.1 Logistic Regression\n",
    "Author: Jackson Robbins, Wyatt Tauber\n",
    "\n",
    "An sklearn logistic regression implementation\n",
    "\"\"\"\n",
    "import matplotlib.pyplot as plt\n",
    "from sklearn.linear_model import LogisticRegression\n",
    "from sklearn.metrics import accuracy_score, precision_score, recall_score, f1_score, confusion_matrix, ConfusionMatrixDisplay\n",
    "\n",
    "# reshape the data into 2 dimensions\n",
    "logistic_train_data = train_data.reshape(-1,1)\n",
    "logistic_test_data = test_data.reshape(-1,1)\n",
    "\n",
    "# perform logistic regression on the train data\n",
    "# TODO: \"hyperparameter\" tuning? plots?\n",
    "logisticRegr = LogisticRegression()\n",
    "logisticRegr.fit(logistic_train_data, train_label)\n",
    "\n",
    "# make predictions on the test data\n",
    "logistic_predictions = logisticRegr.predict(logistic_test_data)\n",
    "\n",
    "# print the metrics\n",
    "logistic_accuracy = accuracy_score(logistic_predictions, test_label)\n",
    "logistic_precision = precision_score(logistic_predictions, test_label)\n",
    "logistic_recall = recall_score(logistic_predictions, test_label)\n",
    "logistic_f1 = f1_score(logistic_predictions, test_label)\n",
    "\n",
    "print(\"Logistic Regression Metrics:\")\n",
    "print(\"Accuracy:\", logistic_accuracy)\n",
    "print(\"Precision:\", logistic_precision)\n",
    "print(\"Recall:\", logistic_recall)\n",
    "print(\"F1-score:\", logistic_f1)\n",
    "\n",
    "# create the confusion matrix\n",
    "logistic_cf_matrix = confusion_matrix(logistic_predictions, test_label)\n",
    "display = ConfusionMatrixDisplay(confusion_matrix=logistic_cf_matrix, display_labels=[\"Packed\", \"Unpacked\"])\n",
    "display.plot()\n",
    "\n",
    "# display the confusion matrix\n",
    "print(\"\\nFigure 1: Logistic Regression Confusion Matrix\")\n",
    "plt.show()"
   ]
  },
  {
   "cell_type": "markdown",
   "metadata": {},
   "source": [
    "## 2.2 Linear SVM"
   ]
  },
  {
   "cell_type": "code",
   "execution_count": 107,
   "metadata": {},
   "outputs": [
    {
     "name": "stdout",
     "output_type": "stream",
     "text": [
      "Linear SVM Metrics:\n",
      "Accuracy: 0.8674242424242424\n",
      "Precision: 0.8968253968253969\n",
      "Recall: 0.837037037037037\n",
      "F1-score: 0.8659003831417625\n",
      "\n",
      "Figure 2: Linear SVM Confusion Matrix\n"
     ]
    },
    {
     "data": {
      "text/plain": "<Figure size 432x288 with 2 Axes>",
      "image/png": "[encoded data removed]"
     },
     "metadata": {
      "needs_background": "light"
     },
     "output_type": "display_data"
    }
   ],
   "source": [
    "\"\"\"\n",
    "2.2 Linear SVM\n",
    "Author: Jackson Robbins, Wyatt Tauber\n",
    "\n",
    "A sklearn linear SVM implementation\n",
    "\"\"\"\n",
    "from sklearn.svm import SVC\n",
    "\n",
    "# reshape the data into 2 dimensions\n",
    "svm_train_data = train_data.reshape(-1,1)\n",
    "svm_test_data = test_data.reshape(-1,1)\n",
    "\n",
    "# run linear SVM on the train data\n",
    "# TODO: hyperparameter tuning? plots?\n",
    "clf = SVC(kernel='linear')\n",
    "clf.fit(svm_train_data, train_label)\n",
    "\n",
    "# make predictions on the test data\n",
    "svm_predictions = clf.predict(svm_test_data)\n",
    "\n",
    "# print the metrics\n",
    "svm_accuracy = accuracy_score(svm_predictions, test_label)\n",
    "svm_precision = precision_score(svm_predictions, test_label)\n",
    "svm_recall = recall_score(svm_predictions, test_label)\n",
    "svm_f1 = f1_score(svm_predictions, test_label)\n",
    "\n",
    "print(\"Linear SVM Metrics:\")\n",
    "print(\"Accuracy:\", svm_accuracy)\n",
    "print(\"Precision:\", svm_precision)\n",
    "print(\"Recall:\", svm_recall)\n",
    "print(\"F1-score:\", svm_f1)\n",
    "\n",
    "# create the confusion matrix\n",
    "svm_cf_matrix = confusion_matrix(svm_predictions, test_label)\n",
    "display = ConfusionMatrixDisplay(confusion_matrix=svm_cf_matrix, display_labels=[\"Packed\", \"Unpacked\"])\n",
    "display.plot()\n",
    "\n",
    "# display the confusion matrix\n",
    "print(\"\\nFigure 2: Linear SVM Confusion Matrix\")\n",
    "plt.show()"
   ]
  },
  {
   "cell_type": "markdown",
   "metadata": {},
   "source": [
    "## 2.3 k-Means"
   ]
  },
  {
   "cell_type": "code",
   "execution_count": 150,
   "metadata": {},
   "outputs": [
    {
     "name": "stdout",
     "output_type": "stream",
     "text": [
      "k-Means Metrics:\n",
      "Accuracy: 0.8901515151515151\n",
      "Precision: 0.8968253968253969\n",
      "Recall: 0.875968992248062\n",
      "F1-score: 0.8862745098039216\n",
      "\n",
      "Figure 3: k-Means Confusion Matrix\n"
     ]
    },
    {
     "data": {
      "text/plain": "<Figure size 432x288 with 2 Axes>",
      "image/png": "[encoded data removed]"
     },
     "metadata": {
      "needs_background": "light"
     },
     "output_type": "display_data"
    }
   ],
   "source": [
    "\"\"\"\n",
    "2.3 k-Means\n",
    "Author: Jackson Robbins, Wyatt Tauber\n",
    "\n",
    "A sklearn k-Means implementation\n",
    "\"\"\"\n",
    "from sklearn.cluster import KMeans\n",
    "\n",
    "# reshape the data into 2 dimensions\n",
    "km_train_data = train_data.reshape(-1,1)\n",
    "km_test_data = test_data.reshape(-1,1)\n",
    "\n",
    "# run k-means on the train data\n",
    "# TODO: hyperparameter tuning? plots?\n",
    "km = KMeans(\n",
    "    n_clusters=2, init='random',\n",
    "    n_init=10, max_iter=300, \n",
    "    tol=1e-04\n",
    ")\n",
    "km.fit(km_train_data, train_label)\n",
    "\n",
    "# make predictions on the test data\n",
    "km_predictions = km.predict(km_test_data, test_label)\n",
    "\n",
    "# print the metrics\n",
    "km_accuracy = accuracy_score(km_predictions, test_label)\n",
    "km_precision = precision_score(km_predictions, test_label)\n",
    "km_recall = recall_score(km_predictions, test_label)\n",
    "km_f1 = f1_score(km_predictions, test_label)\n",
    "\n",
    "print(\"k-Means Metrics:\")\n",
    "print(\"Accuracy:\", km_accuracy)\n",
    "print(\"Precision:\", km_precision)\n",
    "print(\"Recall:\", km_recall)\n",
    "print(\"F1-score:\", km_f1)\n",
    "\n",
    "# create the confusion matrix\n",
    "km_cf_matrix = confusion_matrix(km_predictions, test_label)\n",
    "display = ConfusionMatrixDisplay(confusion_matrix=km_cf_matrix, display_labels=[\"Packed\", \"Unpacked\"])\n",
    "display.plot()\n",
    "\n",
    "# display the confusion matrix\n",
    "print(\"\\nFigure 3: k-Means Confusion Matrix\")\n",
    "plt.show()"
   ]
  },
  {
   "cell_type": "markdown",
   "source": [
    "## 2.4 DBSCAN"
   ],
   "metadata": {
    "collapsed": false
   }
  },
  {
   "cell_type": "code",
   "execution_count": 182,
   "metadata": {},
   "outputs": [
    {
     "name": "stdout",
     "output_type": "stream",
     "text": [
      "[0 0 0 0 0 0 0 0 0 0 0 0 0 0 0 0 0 0 0 0 0 0 0 0 0 0 0 0 0 0 0 0 0 0 0 0 0\n",
      " 0 0 0 0 0 0 0 0 0 0 0 0 0 0 0 0 0 0 0 0 0 0 0 0 0 0 0 0 0 0 0 0 0 0 0 0 0\n",
      " 0 0 0 0 0 0 0 0 0 0 0 0 0 0 0 0 0 0 0 0 0 0 0 0 0 0 0 0 0 0 0 0 0 0 0 0 0\n",
      " 0 0 0 0 0 0 0 0 0 0 0 0 0 0 0 0 0 0 0 0 0 0 0 0 0 0 0 0 0 0 0 0 0 0 0 0 0\n",
      " 0 0 0 0 0 0 0 0 0 0 0 0 0 0 0 0 0 0 0 0 0 0 0 0 0 0 0 0 0 0 0 0 0 0 0 0 0\n",
      " 0 0 0 0 0 0 0 0 0 0 0 0 0 0 0 0 0 0 0 0 0 0 0 0 0 0 0 0 0 0 0 0 0 0 0 0 0\n",
      " 0 0 0 0 0 0 0 0 0 0 0 0 0 0 0 0 0 0 0 0 0 0 0 0 0 0 0 0 0 0 0 0 0 0 0 0 0\n",
      " 0 0 0 0 0]\n",
      "DBSCAN Metrics:\n",
      "Accuracy: 0.28939393939393937\n",
      "Precision: 0.5592705167173252\n",
      "Recall: 0.36220472440944884\n",
      "F1-score: 0.43966547192353644\n"
     ]
    },
    {
     "data": {
      "text/plain": "<Figure size 432x288 with 1 Axes>",
      "image/png": "[encoded data removed]"
     },
     "metadata": {
      "needs_background": "light"
     },
     "output_type": "display_data"
    },
    {
     "data": {
      "text/plain": "<Figure size 576x576 with 1 Axes>",
      "image/png": "[encoded data removed]"
     },
     "metadata": {
      "needs_background": "light"
     },
     "output_type": "display_data"
    }
   ],
   "source": [
    "\"\"\"\n",
    "2.4 DBSCAN\n",
    "Author: Wyatt Tauber\n",
    "\n",
    "A sklearn DBSCAN implementation\n",
    "TODO: doesn't work yet\n",
    "\"\"\"\n",
    "from sklearn.cluster import DBSCAN\n",
    "\n",
    "import numpy as np\n",
    "import scipy as sp\n",
    "\n",
    "def dbscan_predict(dbscan_model, X_new, metric=sp.spatial.distance.cosine):\n",
    "    # Result is noise by default\n",
    "    y_new = np.ones(shape=len(X_new), dtype=int)*-1\n",
    "\n",
    "    # Iterate all input samples for a label\n",
    "    for j, x_new in enumerate(X_new):\n",
    "        # Find a core sample closer than EPS\n",
    "        for i, x_core in enumerate(dbscan_model.components_):\n",
    "            if metric(x_new, x_core) < dbscan_model.eps:\n",
    "                # Assign label of x_core to x_new\n",
    "                y_new[j] = dbscan_model.labels_[dbscan_model.core_sample_indices_[i]]\n",
    "                break\n",
    "\n",
    "    return y_new\n",
    "\n",
    "# reshape the data into 2 dimensions\n",
    "db_train_data = train_data.reshape(-1,1)\n",
    "db_test_data = test_data.reshape(-1,1)\n",
    "\n",
    "# merge the sets for DBSCAN\n",
    "db_total_data = np.concatenate([db_train_data, db_test_data])\n",
    "db_total_labels = np.concatenate([train_label, test_label])\n",
    "\n",
    "# run DBSCAN on the training data\n",
    "# TODO: hyperparameter tuning? plots?\n",
    "db = DBSCAN(eps=0.5, min_samples=10).fit(db_train_data)\n",
    "\n",
    "# make predictions on the data\n",
    "#db_predictions = db.labels_\n",
    "\n",
    "db_predictions = dbscan_predict(db, db_test_data)\n",
    "print(db_predictions)\n",
    "\n",
    "# TODO: shouldn't do this but idk how to get it to work otherwise\n",
    "# db_predictions[db_predictions > 1] = 1\n",
    "# db_predictions[db_predictions < 0] = 0\n",
    "\n",
    "# print the metrics\n",
    "db_accuracy = accuracy_score(labels, db_total_labels)\n",
    "db_precision = precision_score(labels, db_total_labels)\n",
    "db_recall = recall_score(labels, db_total_labels)\n",
    "db_f1 = f1_score(labels, db_total_labels)\n",
    "\n",
    "print(\"DBSCAN Metrics:\")\n",
    "print(\"Accuracy:\", db_accuracy)\n",
    "print(\"Precision:\", db_precision)\n",
    "print(\"Recall:\", db_recall)\n",
    "print(\"F1-score:\", db_f1)\n",
    "\n",
    "# Building the label to colour mapping\n",
    "colours = {}\n",
    "colours[0] = 'r'\n",
    "colours[1] = 'g'\n",
    "\n",
    "# Building the colour vector for each data point\n",
    "cvec = [colours[label] for label in labels]\n",
    "\n",
    "# For the construction of the legend of the plot\n",
    "r = plt.scatter(db_total_data, np.zeros(len(db_total_data)), color ='r');\n",
    "g = plt.scatter(db_total_data, np.zeros(len(db_total_data)), color ='g');\n",
    "\n",
    "# Plotting P1 on the X-Axis and P2 on the Y-Axis\n",
    "# according to the colour vector defined\n",
    "plt.figure(figsize =(8, 8))\n",
    "plt.scatter(db_total_data, np.zeros(len(db_total_data)), c = cvec)\n",
    "\n",
    "# Building the legend\n",
    "plt.legend((r, g), ('Unpacked', 'Packed'))\n",
    "\n",
    "plt.show()"
   ]
  },
  {
   "cell_type": "markdown",
   "source": [
    "## 2.5 Naive Bayes"
   ],
   "metadata": {
    "collapsed": false,
    "pycharm": {
     "name": "#%% md\n"
    }
   }
  },
  {
   "cell_type": "code",
   "execution_count": 198,
   "outputs": [
    {
     "name": "stdout",
     "output_type": "stream",
     "text": [
      "Naive Bayes Metrics:\n",
      "Accuracy: 0.8787878787878788\n",
      "Precision: 0.8095238095238095\n",
      "Recall: 0.9272727272727272\n",
      "F1-score: 0.864406779661017\n",
      "\n",
      "Figure 5: Naive Bayes Confusion Matrix\n"
     ]
    },
    {
     "data": {
      "text/plain": "<Figure size 432x288 with 2 Axes>",
      "image/png": "[encoded data removed]"
     },
     "metadata": {
      "needs_background": "light"
     },
     "output_type": "display_data"
    }
   ],
   "source": [
    "\"\"\"\n",
    "2.5 Naive Bayes\n",
    "Author: Wyatt Tauber\n",
    "\n",
    "A sklearn Naive Bayes implementation\n",
    "\"\"\"\n",
    "from sklearn.naive_bayes import GaussianNB, MultinomialNB, ComplementNB, BernoulliNB, CategoricalNB\n",
    "\n",
    "# reshape the data into 2 dimensions\n",
    "nb_train_data = train_data.reshape(-1,1)\n",
    "nb_test_data = test_data.reshape(-1,1)\n",
    "\n",
    "# run Naive Bayes on the training data\n",
    "# TODO: \"hyperparameter\" tuning? plots?\n",
    "nb = CategoricalNB()\n",
    "nb.fit(nb_train_data, train_label)\n",
    "\n",
    "# make predictions on the test data\n",
    "nb_predictions = nb.predict(nb_test_data)\n",
    "\n",
    "# print the metrics\n",
    "nb_accuracy = accuracy_score(nb_predictions, test_label)\n",
    "nb_precision = precision_score(nb_predictions, test_label)\n",
    "nb_recall = recall_score(nb_predictions, test_label)\n",
    "nb_f1 = f1_score(nb_predictions, test_label)\n",
    "\n",
    "print(\"Naive Bayes Metrics:\")\n",
    "print(\"Accuracy:\", nb_accuracy)\n",
    "print(\"Precision:\", nb_precision)\n",
    "print(\"Recall:\", nb_recall)\n",
    "print(\"F1-score:\", nb_f1)\n",
    "\n",
    "# create the confusion matrix\n",
    "nb_cf_matrix = confusion_matrix(nb_predictions, test_label)\n",
    "display = ConfusionMatrixDisplay(confusion_matrix=nb_cf_matrix, display_labels=[\"Packed\", \"Unpacked\"])\n",
    "display.plot()\n",
    "\n",
    "# display the confusion matrix\n",
    "print(\"\\nFigure 5: Naive Bayes Confusion Matrix\")\n",
    "plt.show()"
   ],
   "metadata": {
    "collapsed": false,
    "pycharm": {
     "name": "#%%\n"
    }
   }
  },
  {
   "cell_type": "code",
   "execution_count": null,
   "outputs": [],
   "source": [],
   "metadata": {
    "collapsed": false,
    "pycharm": {
     "name": "#%%\n"
    }
   }
  }
 ],
 "metadata": {
  "kernelspec": {
   "display_name": "Python 3 (ipykernel)",
   "language": "python",
   "name": "python3"
  },
  "language_info": {
   "codemirror_mode": {
    "name": "ipython",
    "version": 3
   },
   "file_extension": ".py",
   "mimetype": "text/x-python",
   "name": "python",
   "nbconvert_exporter": "python",
   "pygments_lexer": "ipython3",
   "version": "3.9.7"
  }
 },
 "nbformat": 4,
 "nbformat_minor": 1
}